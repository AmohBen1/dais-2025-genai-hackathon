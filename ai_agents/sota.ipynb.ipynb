{
 "cells": [
  {
   "cell_type": "code",
   "execution_count": 0,
   "metadata": {
    "application/vnd.databricks.v1+cell": {
     "cellMetadata": {
      "byteLimit": 2048000,
      "rowLimit": 10000
     },
     "inputWidgets": {},
     "nuid": "a61cace5-47ad-41ea-ae77-45cb86fa7495",
     "showTitle": false,
     "tableResultSettingsMap": {},
     "title": ""
    }
   },
   "outputs": [],
   "source": [
    "%pip install -U llama-index llama-index-llms-databricks mlflow\n",
    "%pip install -U -qqq langchain_core langchain_databricks langchain_community\n",
    "%restart_python"
   ]
  },
  {
   "cell_type": "code",
   "execution_count": 0,
   "metadata": {
    "application/vnd.databricks.v1+cell": {
     "cellMetadata": {
      "byteLimit": 2048000,
      "rowLimit": 10000
     },
     "inputWidgets": {},
     "nuid": "74c01ff7-4fdb-4023-b0f2-a16a16d0dd01",
     "showTitle": false,
     "tableResultSettingsMap": {},
     "title": ""
    }
   },
   "outputs": [],
   "source": [
    "import os\n",
    "import pandas as pd\n",
    "from langchain_core.prompts import PromptTemplate, ChatPromptTemplate, HumanMessagePromptTemplate, MessagesPlaceholder\n",
    "from langchain_community.chat_models import ChatDatabricks\n",
    "from langchain_core.output_parsers import StrOutputParser\n",
    "from langchain_databricks import ChatDatabricks\n",
    "from databricks.sdk import WorkspaceClient\n",
    "from langchain.schema.output_parser import StrOutputParser\n",
    "from langchain.tools import Tool\n",
    "from langchain.agents import create_openai_functions_agent, AgentExecutor\n",
    "from langchain.schema import SystemMessage\n",
    "from langchain.memory import ConversationBufferWindowMemory\n",
    "import requests\n",
    "from typing import Dict, Any, List\n",
    "import json"
   ]
  },
  {
   "cell_type": "code",
   "execution_count": 0,
   "metadata": {
    "application/vnd.databricks.v1+cell": {
     "cellMetadata": {
      "byteLimit": 2048000,
      "rowLimit": 10000
     },
     "inputWidgets": {},
     "nuid": "647d838d-6db0-45e0-b709-36b721862a0e",
     "showTitle": false,
     "tableResultSettingsMap": {},
     "title": ""
    }
   },
   "outputs": [],
   "source": [
    "# Configure your personal access token\n",
    "\n",
    "w = WorkspaceClient()\n",
    "\n",
    "os.environ[\"DATABRICKS_HOST\"] = w.config.host\n",
    "os.environ[\"DATABRICKS_TOKEN\"] = w.tokens.create(\n",
    "    comment=\"for model serving\", \n",
    "    lifetime_seconds=1200\n",
    ").token_value\n",
    "\n",
    "llm = ChatDatabricks(endpoint=\"databricks-llama-4-maverick\")"
   ]
  },
  {
   "cell_type": "markdown",
   "metadata": {
    "application/vnd.databricks.v1+cell": {
     "cellMetadata": {},
     "inputWidgets": {},
     "nuid": "00f0ec04-f1f4-4b46-abbc-c4cb570cf87f",
     "showTitle": false,
     "tableResultSettingsMap": {},
     "title": ""
    }
   },
   "source": [
    "Set up your Databricks model with LlamaIndex"
   ]
  },
  {
   "cell_type": "code",
   "execution_count": 0,
   "metadata": {
    "application/vnd.databricks.v1+cell": {
     "cellMetadata": {
      "byteLimit": 2048000,
      "rowLimit": 10000
     },
     "inputWidgets": {},
     "nuid": "e7fb48e9-375b-4bb9-9119-bf93f86baf1c",
     "showTitle": false,
     "tableResultSettingsMap": {},
     "title": ""
    }
   },
   "outputs": [],
   "source": [
    "class AccessibilityAgent:\n",
    "    def __init__(self):\n",
    "        self.llm = llm\n",
    "        self.memory = ConversationBufferWindowMemory(\n",
    "            memory_key = \"chat_history\",\n",
    "            return_messages = True,\n",
    "            k = 5\n",
    "        )\n",
    "        self.tools = self._create_tools()\n",
    "        self.agent = self._create_agent()\n",
    "\n",
    "    def _create_tools(self):\n",
    "        \"\"\"Create a comprehensive tool for the AI agent\"\"\"\n",
    "\n",
    "        tools = [\n",
    "            Tool(\n",
    "                name=\"sql_query_generator\",\n",
    "                description=\"Creates an SQL querry based on the user's request\",\n",
    "                func = self._generate_and_execute_sql\n",
    "            ),\n",
    "            Tool(\n",
    "                name=\"accessibility_analyzer\",\n",
    "                description=\"Analyzes property descriptions and reviews for accessibility features\",\n",
    "                func = self._analyze_accesibility\n",
    "            ),\n",
    "            Tool(\n",
    "                name=\"property_description\",\n",
    "                description=\"Returns the property description\",\n",
    "                func = self._get_property_description\n",
    "            ),\n",
    "            Tool(\n",
    "                name=\"property_reviews\",\n",
    "                description=\"Returns the property reviews\",\n",
    "                func = self._get_property_reviews\n",
    "            ),\n",
    "            Tool(\n",
    "                name = \"hotel_price_fetcher\",\n",
    "                description= \"Fetches live hotel prices for comparison (mock API for demo)\",\n",
    "                func = self._fetch_hotel_prices\n",
    "            ),\n",
    "            Tool(\n",
    "                name = \"neighhorhood_accessibility\",\n",
    "                description= \"Returns the accessibility rating of the neighborhood\",\n",
    "                func = self._get_neighborhood_accessibility\n",
    "            ),\n",
    "            Tool(\n",
    "                name = \"advanced_search\",\n",
    "                description= \"Performs advanced search combining multiple criteria and filters\",\n",
    "                func = self._advanced_search\n",
    "            )\n",
    "        ]\n",
    "        return tools \n",
    "    \n",
    "    def _generate_and_execute_sql(self, user_request: str) -> str:\n",
    "        \"\"\"Generate SQL queries based on natural language and execute them\"\"\"\n",
    "\n",
    "        sql_generation_prompt = PromptTemplate.from_template(\"\"\"\n",
    "            You are an SQL expert. Generate a SQL query for the Airbnb dataset based on the user request. \n",
    "\n",
    "            Available columns:\n",
    "            - listing name, location, location_details, details, description, description_by_sections, reviews\n",
    "            - host_name_of_reviews, guest_rating, price, amenities, property_type, beds, bedrooms, bathrooms, property_number_of_reviews, host, highlights, discount,is_supperhost, pricing_detials, reviews, travel_details,house_rules\n",
    "\n",
    "            Table: `dais-hackathon-2025`.bright_initiative.airbnb_properties_information\n",
    "        \n",
    "            User request: {request}\n",
    "        \n",
    "            Generate only the SQL query without explanation:\n",
    "            \"\"\")\n",
    "        \n",
    "        chain = sql_generation_prompt | self.llm | StrOutputParser()\n",
    "        sql_query = chain.invoke({\"request\": user_request})\n",
    "\n",
    "        try: \n",
    "            # Execute the generated SQL\n",
    "            results_df = spark.sql(sql_query).toPandas()\n",
    "            return self._format_context(results_df)\n",
    "        \n",
    "        except Exception as e:\n",
    "            return f\"Error executing SQL: {str(e)}\\nGenerated SQL: {sql_query}\"\n",
    "            \n",
    "    def _get_property_description(self, property_id: str) -> str:\n",
    "        \"\"\"Get the description of a property based on its ID\"\"\"\n",
    "\n",
    "        query = f\"\"\"\n",
    "        SELECT \n",
    "            listing_name,\n",
    "            description\n",
    "        FROM dais_hackathon_2025.bright_initiative.airbnb_properties_information\n",
    "        WHERE property_id = '{property_id}'\n",
    "        LIMIT 1\n",
    "        \"\"\"\n",
    "        \n",
    "        try:\n",
    "            result_df = spark.sql(query).toPandas()\n",
    "            return self._format_context(result_df)\n",
    "        except Exception as e:\n",
    "            return f\"Property description not available: {str(e)}\"\n",
    "        \n",
    "    def _get_property_reviews(self, property_id: str) -> str:\n",
    "            \"\"\"Get the reviews of a property based on its ID\"\"\"\n",
    "\n",
    "            query = f\"\"\"\n",
    "            SELECT \n",
    "                review_text,\n",
    "                guest_rating,\n",
    "                review_date\n",
    "            FROM dais_hackathon_2025.bright_initiative.airbnb_properties_reviews\n",
    "            WHERE property_id = '{property_id}'\n",
    "            ORDER BY review_date DESC\n",
    "            LIMIT 10\n",
    "            \"\"\"\n",
    "            \n",
    "            try:\n",
    "                result_df = spark.sql(query).toPandas()\n",
    "                return self._format_context(result_df)\n",
    "            except Exception as e:\n",
    "                return f\"Property reviews not available: {str(e)}\"\n",
    "        \n",
    "    def _analyze_accesibility(self, property_data: str) -> str:\n",
    "        \"\"\"Analyze property descriptions and reviews for accessibility features\"\"\"\n",
    "\n",
    "        analysis_prompt = PromptTemplate.from_template(\"\"\"\n",
    "        You are an accessibility expert. Analyze the following property data and provie:\n",
    "            1. Comfirmed accessibility features \n",
    "            2. Potential accessibility barriers \n",
    "            3. Accessibility score (0-10)\n",
    "            4. Recommendatioins for the travelers with mobility needs\n",
    "            \n",
    "            Property data: {data}\n",
    "            \n",
    "            Provide a structured analysis: \n",
    "                \n",
    "            \"\"\")\n",
    "\n",
    "        chain = analysis_prompt | self.llm | StrOutputParser()\n",
    "        analysis = chain.invoke({\"data\": property_data})\n",
    "        return analysis\n",
    "\n",
    "    def _fetch_hotel_prices(self, location: str) -> str:\n",
    "        \"\"\"Fetch hotel prices from the bright_initiative dataset for comparison\"\"\"\n",
    "\n",
    "        # SQL query to fetch hotel prices based on location\n",
    "        sql_query = f\"\"\"\n",
    "        SELECT title, price\n",
    "        FROM sota_ai_agents.bright_initiative.booking_hotel_listings\n",
    "        WHERE location = '{location}'\n",
    "        \"\"\"\n",
    "\n",
    "        try:\n",
    "            # Execute the SQL query\n",
    "            results_df = spark.sql(sql_query).toPandas()\n",
    "            # Convert the results to a list of dictionaries\n",
    "            results_list = results_df.to_dict(orient='records')\n",
    "            # Return the results as a JSON string\n",
    "            return json.dumps(results_list, indent=2)\n",
    "        \n",
    "        except Exception as e:\n",
    "            return f\"Error executing SQL: {str(e)}\\nGenerated SQL: {sql_query}\"\n",
    "\n",
    "    def _get_neighborhood_accessibility(self, location: str) -> str:\n",
    "        \"\"\"Get the accessibility rating of a neighborhood\"\"\"\n",
    "\n",
    "        query = f\"\"\"\n",
    "        SELECT \n",
    "            neighborhood\n",
    "            public_transport_accessibility,\n",
    "            sidewalk_quality,\n",
    "            accessible_businesses_count,\n",
    "            accessibility_rating\n",
    "        FROM sota_ai_agents.bright_initiative.neighborhood_accessibility\n",
    "        WHERE location ILIKE '%{location}%'\n",
    "        LIMIT 5\n",
    "        \"\"\"\n",
    "        \n",
    "        try:\n",
    "            result_df = spark.sql(query).toPandas()\n",
    "            return self._format_context(result_df)\n",
    "        except Exception as e:\n",
    "            return f\"Neighborhood data not available: {str(e)}\"\n",
    "\n",
    "    def _get_neighborhood_accessibility(self, location: str) -> str:\n",
    "        \"\"\"Get the accessibility rating of a neighborhood\"\"\"\n",
    "\n",
    "        query = f\"\"\"\n",
    "        SELECT \n",
    "            neighborhood,\n",
    "            public_transport_accessibility,\n",
    "            sidewalk_quality,\n",
    "            accessible_businesses_count,\n",
    "            accessibility_rating\n",
    "        FROM sota_ai_agents.bright_initiative.neighborhood_accessibility\n",
    "        WHERE location ILIKE '%{location}%'\n",
    "        LIMIT 5\n",
    "        \"\"\"\n",
    "        \n",
    "        try:\n",
    "            result_df = spark.sql(query).toPandas()\n",
    "            return self._format_context(result_df)\n",
    "        except Exception as e:\n",
    "            return f\"Neighborhood data not available: {str(e)}\"\n",
    "\n",
    "\n",
    "    def _advanced_search(self, criteria: str) -> str:\n",
    "        \"\"\"Perform advanced search with multiple criteria\"\"\"\n",
    "        \n",
    "        # Parse criteria and build complex query\n",
    "        search_prompt = PromptTemplate.from_template(\"\"\"\n",
    "        Generate an advanced SQL query that combines multiple criteria:\n",
    "        \n",
    "        Criteria: {criteria}\n",
    "        \n",
    "        Use these tables:\n",
    "        - airbnb_properties_information\n",
    "        - neighborhood_accessibility  \n",
    "        - reviews_sentiment_analysis\n",
    "        \n",
    "        Include JOINs where appropriate and complex WHERE conditions:\n",
    "        \"\"\")\n",
    "        \n",
    "        chain = search_prompt | self.llm | StrOutputParser()\n",
    "        sql_query = chain.invoke({\"criteria\": criteria})\n",
    "        \n",
    "        try:\n",
    "            result_df = spark.sql(sql_query).toPandas()\n",
    "            return self._format_context(result_df)\n",
    "        except Exception as e:\n",
    "            return f\"Advanced search error: {str(e)}\"\n",
    "\n",
    "    def _format_context(self, df: pd.DataFrame) -> str:\n",
    "        \"\"\"Format DataFrame as JSON\"\"\"\n",
    "        if df.empty:\n",
    "            return \"No results found.\"\n",
    "        return df.to_json(orient='records', indent=2)\n",
    "\n",
    "        \n",
    "    def _create_agent(self):\n",
    "        \"\"\"Create the agent with tools and system message\"\"\"\n",
    "        \n",
    "        prompt = ChatPromptTemplate.from_messages([\n",
    "            (\"system\", \"\"\"You are an advanced accessible travel assistant. You help users find accommodations \n",
    "            that meet their accessibility needs. \n",
    "            \n",
    "            Your capabilities include:\n",
    "            - Generating custom SQL queries for flexible searches\n",
    "            - Analyzing accessibility features from descriptions and reviews\n",
    "            - Comparing Airbnb listings with hotel alternatives\n",
    "            - Providing neighborhood accessibility information\n",
    "            - Performing complex searches with multiple criteria\n",
    "            \n",
    "            Always provide helpful, accurate information about accessibility features.\n",
    "            When unsure about accessibility claims, clearly state limitations.\n",
    "            Suggest multiple options when possible and explain the trade-offs.\"\"\"),\n",
    "            MessagesPlaceholder(variable_name=\"chat_history\"),\n",
    "            (\"human\", \"{input}\"),\n",
    "            MessagesPlaceholder(variable_name=\"agent_scratchpad\")\n",
    "        ])\n",
    "        \n",
    "        agent = create_openai_functions_agent(\n",
    "            llm=self.llm,\n",
    "            tools=self.tools,\n",
    "            prompt=prompt\n",
    "        )\n",
    "        \n",
    "        return AgentExecutor(\n",
    "            agent=agent,\n",
    "            tools=self.tools,\n",
    "            memory=self.memory,\n",
    "            verbose=True,\n",
    "            handle_parsing_errors=True\n",
    "        )\n",
    "    \n",
    "    def chat(self, message: str) -> str:\n",
    "        \"\"\"Main chat interface\"\"\"\n",
    "        try:\n",
    "            response = self.agent.invoke({\"input\": message})\n",
    "            return response[\"output\"]\n",
    "        except Exception as e:\n",
    "            return f\"Error: {str(e)}\"\n"
   ]
  },
  {
   "cell_type": "code",
   "execution_count": 0,
   "metadata": {
    "application/vnd.databricks.v1+cell": {
     "cellMetadata": {
      "byteLimit": 2048000,
      "rowLimit": 10000
     },
     "inputWidgets": {},
     "nuid": "7c81bd6f-c452-44a7-9deb-eb06334205e5",
     "showTitle": false,
     "tableResultSettingsMap": {},
     "title": ""
    }
   },
   "outputs": [],
   "source": [
    "\n",
    "agent = AccessibilityAgent()\n",
    "\n",
    "# Example 1: Flexible SQL generation\n",
    "print(\"=== Example 1: Flexible Query ===\")\n",
    "response1 = agent.chat(\"Find listings in Chicago with pools that have ratings above 4.5\")\n",
    "print(response1)\n",
    "\n",
    "# # Example 2: Complex accessibility analysis\n",
    "# print(\"\\n=== Example 2: Detailed Analysis ===\")\n",
    "# response2 = agent.chat(\"I need wheelchair accessible accommodations in San Francisco with good reviews mentioning elevators\")\n",
    "# print(response2)\n",
    "\n",
    "# # Example 3: Comparison with hotels\n",
    "# print(\"\\n=== Example 3: Multi-option Comparison ===\")\n",
    "# response3 = agent.chat(\"Compare accessible Airbnb options vs hotels in downtown Seattle for someone using a mobility scooter\")\n",
    "# print(response3)\n",
    "\n",
    "# # Example 4: Neighborhood accessibility\n",
    "# print(\"\\n=== Example 4: Neighborhood Analysis ===\")\n",
    "# response4 = agent.chat(\"What's the accessibility situation in the Mission District of San Francisco?\")\n",
    "# print(response4)"
   ]
  },
  {
   "cell_type": "markdown",
   "metadata": {
    "application/vnd.databricks.v1+cell": {
     "cellMetadata": {},
     "inputWidgets": {},
     "nuid": "dbd70193-b89a-4084-a46a-80c233687dea",
     "showTitle": false,
     "tableResultSettingsMap": {},
     "title": ""
    }
   },
   "source": [
    "Query your Model\n",
    "You can query the llamaindex-configured Databricks model as follows:"
   ]
  },
  {
   "cell_type": "code",
   "execution_count": 0,
   "metadata": {
    "application/vnd.databricks.v1+cell": {
     "cellMetadata": {
      "byteLimit": 2048000,
      "rowLimit": 10000
     },
     "inputWidgets": {},
     "nuid": "dc85d53f-ea28-4841-8f91-cfc97793bb46",
     "showTitle": false,
     "tableResultSettingsMap": {},
     "title": ""
    }
   },
   "outputs": [],
   "source": [
    "# Completion\n",
    "llm.complete(\"Hello, world\")"
   ]
  },
  {
   "cell_type": "code",
   "execution_count": 0,
   "metadata": {
    "application/vnd.databricks.v1+cell": {
     "cellMetadata": {
      "byteLimit": 2048000,
      "rowLimit": 10000
     },
     "inputWidgets": {},
     "nuid": "0d28ae17-5af8-4ba2-aca2-d7a86d2b6d5e",
     "showTitle": false,
     "tableResultSettingsMap": {},
     "title": ""
    }
   },
   "outputs": [],
   "source": [
    "# Chat\n",
    "from llama_index.core.llms import ChatMessage\n",
    "\n",
    "messages = [\n",
    "    ChatMessage(\n",
    "        role=\"system\", content=\"You are a helpful assistant\"\n",
    "    ),\n",
    "    ChatMessage(role=\"user\", content=\"Hello, world\"),\n",
    "]\n",
    "llm.chat(messages)"
   ]
  },
  {
   "cell_type": "markdown",
   "metadata": {
    "application/vnd.databricks.v1+cell": {
     "cellMetadata": {},
     "inputWidgets": {},
     "nuid": "d21833a5-5e52-4660-b3df-973a840e550f",
     "showTitle": false,
     "tableResultSettingsMap": {},
     "title": ""
    }
   },
   "source": [
    "**Extract the dataset from the Bright Initiative and then we can play with it**"
   ]
  },
  {
   "cell_type": "code",
   "execution_count": 0,
   "metadata": {
    "application/vnd.databricks.v1+cell": {
     "cellMetadata": {
      "byteLimit": 2048000,
      "implicitDf": true,
      "rowLimit": 10000
     },
     "inputWidgets": {},
     "nuid": "b76b77ca-833b-4e79-a004-4b0abadd55df",
     "showTitle": false,
     "tableResultSettingsMap": {},
     "title": ""
    }
   },
   "outputs": [],
   "source": [
    "%sql\n",
    "SELECT * FROM sota_ai_agents.bright_initiative.airbnb_properties_information\n",
    "WHERE\n",
    "  location = 'Chicago, Illinois, United States'\n",
    "  AND host_number_of_reviews > 1000\n",
    "  AND EXISTS(reviews, review -> review ILIKE '%wheelchair%')\n",
    "LIMIT 100;"
   ]
  }
 ],
 "metadata": {
  "application/vnd.databricks.v1+notebook": {
   "computePreferences": null,
   "dashboards": [],
   "environmentMetadata": {
    "base_environment": "",
    "environment_version": "2"
   },
   "inputWidgetPreferences": null,
   "language": "python",
   "notebookMetadata": {
    "mostRecentlyExecutedCommandWithImplicitDF": {
     "commandId": 6565372068455711,
     "dataframes": [
      "_sqldf"
     ]
    },
    "pythonIndentUnit": 4
   },
   "notebookName": "sota.ipynb",
   "widgets": {}
  },
  "language_info": {
   "name": "python"
  }
 },
 "nbformat": 4,
 "nbformat_minor": 0
}
